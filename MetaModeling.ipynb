{
 "cells": [
  {
   "cell_type": "code",
   "execution_count": 16,
   "metadata": {},
   "outputs": [],
   "source": [
    "using CombineML.Util\n",
    "using CombineML.Transformers\n",
    "import RDatasets"
   ]
  },
  {
   "cell_type": "code",
   "execution_count": 17,
   "metadata": {},
   "outputs": [
    {
     "data": {
      "text/plain": [
       "([42, 17, 18, 149, 89, 3, 23, 115, 52, 83  …  113, 48, 28, 141, 40, 94, 71, 41, 33, 27], [123, 132, 125, 106, 63, 68, 95, 31, 96, 15  …  143, 139, 73, 90, 150, 38, 126, 47, 58, 39])"
      ]
     },
     "execution_count": 17,
     "metadata": {},
     "output_type": "execute_result"
    }
   ],
   "source": [
    "iris = RDatasets.dataset(\"datasets\", \"iris\")\n",
    "X = convert(Array, iris[[:SepalLength, :SepalWidth, :PetalLength, :PetalWidth]])\n",
    "y = convert(Array, iris[:Species]);\n",
    "\n",
    "# Split into training and test sets\n",
    "(train_ind, test_ind) = holdout(size(X, 1), 0.3)"
   ]
  },
  {
   "cell_type": "code",
   "execution_count": 18,
   "metadata": {},
   "outputs": [
    {
     "data": {
      "text/plain": [
       "PrunedTree(nothing, Dict{Symbol,Any}(:output=>:class,:impl_options=>Dict{Symbol,Real}(:purity_threshold=>1.0,:min_samples_split=>2,:min_samples_leaf=>1,:min_purity_increase=>0.0,:max_depth=>-1)))"
      ]
     },
     "execution_count": 18,
     "metadata": {},
     "output_type": "execute_result"
    }
   ],
   "source": [
    "prunedTreeLearner = PrunedTree()"
   ]
  },
  {
   "cell_type": "code",
   "execution_count": 19,
   "metadata": {},
   "outputs": [
    {
     "data": {
      "text/plain": [
       "Pipeline(nothing, Dict{Symbol,Union{Nothing, Array{Transformer,1}}}(:transformers=>Transformer[OneHotEncoder(nothing, Dict(:nominal_column_values_map=>nothing,:nominal_columns=>nothing)), Imputer(nothing, Dict(:strategy=>mean)), PrunedTree(nothing, Dict{Symbol,Any}(:output=>:class,:impl_options=>Dict{Symbol,Real}(:purity_threshold=>1.0,:min_samples_split=>2,:min_samples_leaf=>1,:min_purity_increase=>0.0,:max_depth=>-1)))],:transformer_options=>nothing))"
      ]
     },
     "execution_count": 19,
     "metadata": {},
     "output_type": "execute_result"
    }
   ],
   "source": [
    "pipeline1 = Pipeline(Dict(\n",
    "        :transformers => [\n",
    "            OneHotEncoder(), # Encodes nominal features into numeric\n",
    "            Imputer(), # Imputes NA values\n",
    "            #StandardScaler(), # Standardizes features \n",
    "            prunedTreeLearner # Predicts labels on instances\n",
    "        ]\n",
    "    ))"
   ]
  },
  {
   "cell_type": "code",
   "execution_count": 20,
   "metadata": {},
   "outputs": [],
   "source": [
    "# Train\n",
    "fit!(pipeline1, X[train_ind, :], y[train_ind]);"
   ]
  },
  {
   "cell_type": "code",
   "execution_count": 21,
   "metadata": {
    "collapsed": true
   },
   "outputs": [],
   "source": [
    "# Predict\n",
    "predictions = transform!(pipeline1, X[test_ind, :]);"
   ]
  },
  {
   "cell_type": "code",
   "execution_count": 22,
   "metadata": {},
   "outputs": [
    {
     "data": {
      "text/plain": [
       "91.11111111111111"
      ]
     },
     "execution_count": 22,
     "metadata": {},
     "output_type": "execute_result"
    }
   ],
   "source": [
    "sum(predictions .== y[test_ind])/length(predictions)*100"
   ]
  },
  {
   "cell_type": "code",
   "execution_count": 23,
   "metadata": {},
   "outputs": [
    {
     "name": "stdout",
     "output_type": "stream",
     "text": [
      "91.11111111111111\n"
     ]
    }
   ],
   "source": [
    "result = score(:accuracy, y[test_ind], predictions)\n",
    "println(result)"
   ]
  },
  {
   "cell_type": "code",
   "execution_count": 24,
   "metadata": {},
   "outputs": [
    {
     "data": {
      "text/plain": [
       "processModel (generic function with 1 method)"
      ]
     },
     "execution_count": 24,
     "metadata": {},
     "output_type": "execute_result"
    }
   ],
   "source": [
    "function processModel(learner)\n",
    "    iris = RDatasets.dataset(\"datasets\", \"iris\")\n",
    "    X = convert(Array, iris[[:SepalLength, :SepalWidth, :PetalLength, :PetalWidth]])\n",
    "    y = convert(Array, iris[:Species]);\n",
    "    (train_ind, test_ind) = holdout(size(X, 1), 0.3)\n",
    "    pipeline = Pipeline(Dict(\n",
    "            :transformers => [\n",
    "                OneHotEncoder(), # Encodes nominal features into numeric\n",
    "                Imputer(), # Imputes NA values\n",
    "                #StandardScaler(), # Standardizes features \n",
    "                learner # Predicts labels on instances\n",
    "            ]\n",
    "        ))\n",
    "    # Train\n",
    "    fit!(pipeline, X[train_ind, :], y[train_ind]);\n",
    "    # Predict\n",
    "    predictions = transform!(pipeline, X[test_ind, :]);\n",
    "    result = score(:accuracy, y[test_ind], predictions)\n",
    "    return(result)\n",
    "end"
   ]
  },
  {
   "cell_type": "code",
   "execution_count": 25,
   "metadata": {},
   "outputs": [
    {
     "data": {
      "text/plain": [
       "91.11111111111111"
      ]
     },
     "execution_count": 25,
     "metadata": {},
     "output_type": "execute_result"
    }
   ],
   "source": [
    "adaLearner = DecisionStumpAdaboost(Dict(\n",
    "  # Output to train against\n",
    "  # (:class).\n",
    "  :output => :class,\n",
    "  # Options specific to this implementation.\n",
    "  :impl_options => Dict(\n",
    "    # Number of boosting iterations.\n",
    "    :num_iterations => 7\n",
    "  )\n",
    "))\n",
    "processModel(adaLearner)"
   ]
  },
  {
   "cell_type": "code",
   "execution_count": 26,
   "metadata": {},
   "outputs": [
    {
     "data": {
      "text/plain": [
       "95.55555555555556"
      ]
     },
     "execution_count": 26,
     "metadata": {},
     "output_type": "execute_result"
    }
   ],
   "source": [
    "rfLearner = RandomForest(Dict(\n",
    "  :output => :class,\n",
    "  :impl_options => Dict(\n",
    "    :num_subfeatures => 0,\n",
    "    :num_trees => 10,\n",
    "    :partial_sampling => 0.7\n",
    "  )\n",
    "))\n",
    "processModel(rfLearner)"
   ]
  },
  {
   "cell_type": "code",
   "execution_count": 27,
   "metadata": {},
   "outputs": [
    {
     "name": "stderr",
     "output_type": "stream",
     "text": [
      "WARNING: redefining constant KNeighborsClassifier\n",
      "WARNING: redefining constant SVC\n"
     ]
    },
    {
     "ename": "UndefVarError",
     "evalue": "UndefVarError: SKLLearner not defined",
     "output_type": "error",
     "traceback": [
      "UndefVarError: SKLLearner not defined",
      "",
      "Stacktrace:",
      " [1] top-level scope at In[27]:4"
     ]
    }
   ],
   "source": [
    "using ScikitLearn\n",
    "@sk_import neighbors: KNeighborsClassifier\n",
    "@sk_import svm: SVC\n",
    "\n",
    "skLearner = SKLLearner(Dict(\n",
    "  :output => :class,\n",
    "  #:learner => \"KNeighborsClassifier\",\n",
    "  :learner => \"SVC\",\n",
    "  :impl_options => Dict()\n",
    "))\n",
    "processModel(skLearner)"
   ]
  },
  {
   "cell_type": "code",
   "execution_count": 28,
   "metadata": {},
   "outputs": [
    {
     "data": {
      "text/plain": [
       "97.77777777777777"
      ]
     },
     "execution_count": 28,
     "metadata": {},
     "output_type": "execute_result"
    }
   ],
   "source": [
    "voteLearner = VoteEnsemble(Dict(\n",
    "  :output => :class,\n",
    "  # Learners in voting committee.\n",
    "  :learners => [RandomForest(),PrunedTree(), DecisionStumpAdaboost()]\n",
    "))\n",
    "processModel(voteLearner)"
   ]
  },
  {
   "cell_type": "code",
   "execution_count": 32,
   "metadata": {},
   "outputs": [
    {
     "data": {
      "text/plain": [
       "91.11111111111111"
      ]
     },
     "execution_count": 32,
     "metadata": {},
     "output_type": "execute_result"
    }
   ],
   "source": [
    "using Statistics\n",
    "bestLearner = BestLearner(Dict(\n",
    "  :output => :class,\n",
    "  :partition_generator => (X, y) -> kfold(size(X, 1), 5),\n",
    "  :selection_function => (learner_partition_scores) -> findmax(mean(learner_partition_scores, dims=2))[2],      \n",
    "  :score_type => Real,\n",
    "  :learners => [PrunedTree(), DecisionStumpAdaboost(), RandomForest()],\n",
    "  :learner_options_grid => nothing\n",
    "))\n",
    "processModel(bestLearner)"
   ]
  },
  {
   "cell_type": "code",
   "execution_count": 33,
   "metadata": {},
   "outputs": [
    {
     "data": {
      "text/plain": [
       "86.66666666666667"
      ]
     },
     "execution_count": 33,
     "metadata": {},
     "output_type": "execute_result"
    }
   ],
   "source": [
    "stackLearner = StackEnsemble(Dict(\n",
    "  :output => :class,\n",
    "  :learners => [PrunedTree(), DecisionStumpAdaboost(), RandomForest(),voteLearner,bestLearner],\n",
    "  :stacker => RandomForest(),\n",
    "  # Proportion of training set left to train stacker itself.\n",
    "  :stacker_training_proportion => 0.3,\n",
    "  :keep_original_features => false\n",
    "))\n",
    "processModel(stackLearner)"
   ]
  },
  {
   "cell_type": "code",
   "execution_count": 37,
   "metadata": {},
   "outputs": [
    {
     "ename": "LoadError",
     "evalue": "UndefVarError: @parallel not defined",
     "output_type": "error",
     "traceback": [
      "UndefVarError: @parallel not defined",
      ""
     ]
    }
   ],
   "source": [
    "using Distributed\n",
    "\n",
    "results = @parallel (vcat) for i=1:30\n",
    "   processModel(stackLearner)\n",
    "end\n",
    "println(\"acc = \",round(mean(results)),\" +/- \",round(std(results)))"
   ]
  },
  {
   "cell_type": "code",
   "execution_count": 22,
   "metadata": {},
   "outputs": [
    {
     "data": {
      "text/plain": [
       "30-element Array{Float64,1}:\n",
       " 100.0   \n",
       "  93.3333\n",
       "  95.5556\n",
       "  88.8889\n",
       "  91.1111\n",
       "  93.3333\n",
       "  93.3333\n",
       "  95.5556\n",
       "  97.7778\n",
       "  95.5556\n",
       "  88.8889\n",
       "  93.3333\n",
       "  91.1111\n",
       "   ⋮     \n",
       "  97.7778\n",
       "  93.3333\n",
       "  95.5556\n",
       "  84.4444\n",
       "  95.5556\n",
       "  93.3333\n",
       "  93.3333\n",
       "  95.5556\n",
       "  97.7778\n",
       "  93.3333\n",
       "  95.5556\n",
       "  91.1111"
      ]
     },
     "execution_count": 22,
     "metadata": {},
     "output_type": "execute_result"
    }
   ],
   "source": [
    "results"
   ]
  },
  {
   "cell_type": "code",
   "execution_count": 17,
   "metadata": {
    "collapsed": true
   },
   "outputs": [],
   "source": [
    "#svmcrt = CRTLearner(Dict(\n",
    "  # Output to train against\n",
    "  # (:class).\n",
    "  #:output => :class,\n",
    "  #:learner => \"rf\",\n",
    "  #:learner => \"svmLinear2\",\n",
    "  #:learner => \"rpart\",\n",
    "  #:learner => \"lda\",\n",
    "  #:impl_options => Dict()\n",
    "#))"
   ]
  },
  {
   "cell_type": "code",
   "execution_count": null,
   "metadata": {
    "collapsed": true
   },
   "outputs": [],
   "source": []
  }
 ],
 "metadata": {
  "kernelspec": {
   "display_name": "Julia 1.0.2",
   "language": "julia",
   "name": "julia-1.0"
  },
  "language_info": {
   "file_extension": ".jl",
   "mimetype": "application/julia",
   "name": "julia",
   "version": "1.0.2"
  }
 },
 "nbformat": 4,
 "nbformat_minor": 2
}
